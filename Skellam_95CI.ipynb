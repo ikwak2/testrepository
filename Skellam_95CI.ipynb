{
  "nbformat": 4,
  "nbformat_minor": 0,
  "metadata": {
    "colab": {
      "name": "Skellam_95CI.ipynb",
      "provenance": [],
      "authorship_tag": "ABX9TyOvg6X/Z3EnRahg1eChtzeE",
      "include_colab_link": true
    },
    "kernelspec": {
      "name": "ir",
      "display_name": "R"
    },
    "language_info": {
      "name": "R"
    }
  },
  "cells": [
    {
      "cell_type": "markdown",
      "metadata": {
        "id": "view-in-github",
        "colab_type": "text"
      },
      "source": [
        "<a href=\"https://colab.research.google.com/github/ikwak2/testrepository/blob/main/Skellam_95CI.ipynb\" target=\"_parent\"><img src=\"https://colab.research.google.com/assets/colab-badge.svg\" alt=\"Open In Colab\"/></a>"
      ]
    },
    {
      "cell_type": "markdown",
      "metadata": {
        "id": "66Q5TadhzbeX"
      },
      "source": [
        "## 95% CI for Skellam distribution\n",
        "\n",
        "![image.png](data:image/png;base64,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)"
      ]
    },
    {
      "cell_type": "markdown",
      "metadata": {
        "id": "fyFb5diFX5kD"
      },
      "source": [
        "해당 수식에서 $TE_{\\text{off warfarin}}$, $TE_{\\text{on warfarin}}$, $ICH_{\\text{off warfarin}}$, $ICH_{\\text{on warfarin}}$ 를 각각 서로 독립인 Poi($\\theta_1$), Poi($\\theta_2$), Poi($\\theta_3$), Poi($\\theta_4$) 로 부터 나온 Random Variable 이라고 하자\n"
      ]
    },
    {
      "cell_type": "markdown",
      "metadata": {
        "id": "9wfw-hyLYmwr"
      },
      "source": [
        "Net Clinical Benefit = [$TE_{\\text{off warfarin}}$ + Weight $\\times$ $ICH_{\\text{off warfarin}}$] - [ $TE_{\\text{on warfarin}}$ + Weight $\\times$ $ICH_{\\text{on warfarin}}$ ]\n",
        "\n",
        "으로 다시 표현 될 수 있으며, [$TE_{\\text{off warfarin}}$ + Weight $\\times$ $ICH_{\\text{off warfarin}}$] 는 Poi ($\\theta_1+ w \\theta_3$), [ $TE_{\\text{on warfarin}}$ + Weight $\\times$ $ICH_{\\text{on warfarin}}$ ] 는 Poi($\\theta_2+ w \\theta_4$) 를 따른다.\n",
        "\n",
        "Net Clinical Benefit 는 두 Poisson 분포의 차이므로, Skellam($\\theta_1+ w \\theta_3$, $\\theta_2+ w \\theta_4$) 분포를 따르게 된다 \n"
      ]
    },
    {
      "cell_type": "markdown",
      "metadata": {
        "id": "_m8Xb0CqbNzL"
      },
      "source": [
        "$\\gamma_1 = \\theta_1+ w \\theta_3$, $\\gamma_2 = \\theta_2+ w \\theta_4$ 라고 할 때, Skellam($\\gamma_1$, $\\gamma_2$) 의 95% 신뢰구간을 구해보자."
      ]
    },
    {
      "cell_type": "code",
      "metadata": {
        "id": "FuyQnM3zbLCD"
      },
      "source": [
        ""
      ],
      "execution_count": null,
      "outputs": []
    },
    {
      "cell_type": "code",
      "metadata": {
        "colab": {
          "base_uri": "https://localhost:8080/"
        },
        "id": "su55fMNCxWXz",
        "outputId": "b4793ddc-3b50-4204-aa08-0ce1d6951136"
      },
      "source": [
        "library(tidyverse)"
      ],
      "execution_count": null,
      "outputs": [
        {
          "output_type": "stream",
          "name": "stderr",
          "text": [
            "Warning message in system(\"timedatectl\", intern = TRUE):\n",
            "“running command 'timedatectl' had status 1”\n",
            "── \u001b[1mAttaching packages\u001b[22m ─────────────────────────────────────── tidyverse 1.3.1 ──\n",
            "\n",
            "\u001b[32m✔\u001b[39m \u001b[34mggplot2\u001b[39m 3.3.5     \u001b[32m✔\u001b[39m \u001b[34mpurrr  \u001b[39m 0.3.4\n",
            "\u001b[32m✔\u001b[39m \u001b[34mtibble \u001b[39m 3.1.6     \u001b[32m✔\u001b[39m \u001b[34mdplyr  \u001b[39m 1.0.7\n",
            "\u001b[32m✔\u001b[39m \u001b[34mtidyr  \u001b[39m 1.1.4     \u001b[32m✔\u001b[39m \u001b[34mstringr\u001b[39m 1.4.0\n",
            "\u001b[32m✔\u001b[39m \u001b[34mreadr  \u001b[39m 2.1.0     \u001b[32m✔\u001b[39m \u001b[34mforcats\u001b[39m 0.5.1\n",
            "\n",
            "── \u001b[1mConflicts\u001b[22m ────────────────────────────────────────── tidyverse_conflicts() ──\n",
            "\u001b[31m✖\u001b[39m \u001b[34mdplyr\u001b[39m::\u001b[32mfilter()\u001b[39m masks \u001b[34mstats\u001b[39m::filter()\n",
            "\u001b[31m✖\u001b[39m \u001b[34mdplyr\u001b[39m::\u001b[32mlag()\u001b[39m    masks \u001b[34mstats\u001b[39m::lag()\n",
            "\n"
          ]
        }
      ]
    },
    {
      "cell_type": "code",
      "metadata": {
        "colab": {
          "base_uri": "https://localhost:8080/"
        },
        "id": "M55pbwWxvny4",
        "outputId": "3ac42600-4893-4908-a815-05b1ec17a92a"
      },
      "source": [
        "install.packages(\"extraDistr\")"
      ],
      "execution_count": 1,
      "outputs": [
        {
          "output_type": "stream",
          "name": "stderr",
          "text": [
            "Installing package into ‘/usr/local/lib/R/site-library’\n",
            "(as ‘lib’ is unspecified)\n",
            "\n"
          ]
        }
      ]
    },
    {
      "cell_type": "code",
      "metadata": {
        "id": "fsJaBZC2x1Xg"
      },
      "source": [
        "library(extraDistr)"
      ],
      "execution_count": 2,
      "outputs": []
    },
    {
      "cell_type": "markdown",
      "metadata": {
        "id": "RzIMlHT3gMoq"
      },
      "source": [
        "$\\gamma_1, \\gamma_2$ 가 아래와 같다고 하자. 95% CI는"
      ]
    },
    {
      "cell_type": "code",
      "metadata": {
        "id": "aGZH6DjgbsOG"
      },
      "source": [
        "gamma_1 = 2.200701 ; gamma_2 = 2.156248"
      ],
      "execution_count": 3,
      "outputs": []
    },
    {
      "cell_type": "code",
      "metadata": {
        "colab": {
          "base_uri": "https://localhost:8080/",
          "height": 437
        },
        "id": "yFmiVD8LyI84",
        "outputId": "6a7b6332-972a-4938-a382-a5e050377d70"
      },
      "source": [
        "x <- rskellam(1e5, gamma_1, gamma_2)\n",
        "xx <- -40:40\n",
        "plot(prop.table(table(x)), type = \"h\")\n",
        "lines(xx, dskellam(xx, gamma_1, gamma_2), col = \"red\")"
      ],
      "execution_count": 7,
      "outputs": [
        {
          "output_type": "display_data",
          "data": {
            "image/png": "[encoded data removed]",
            "text/plain": [
              "plot without title"
            ]
          },
          "metadata": {
            "image/png": {
              "width": 420,
              "height": 420
            }
          }
        }
      ]
    },
    {
      "cell_type": "markdown",
      "metadata": {
        "id": "xtqckWFzgz1C"
      },
      "source": [
        "먼저 -30, 30 사이의 정수 값에서의 확률 값들을 합하면 1 이 되는 것을 확인한다"
      ]
    },
    {
      "cell_type": "code",
      "metadata": {
        "id": "m4-lma8lvnkv",
        "outputId": "69d3afd8-98ac-44cc-e912-aa84144bb6b4",
        "colab": {
          "base_uri": "https://localhost:8080/",
          "height": 34
        }
      },
      "source": [
        "vec = dskellam(-30:30, gamma_1, gamma_2)\n",
        "sum(vec)"
      ],
      "execution_count": 18,
      "outputs": [
        {
          "output_type": "display_data",
          "data": {
            "text/plain": [
              "[1] 1"
            ],
            "text/latex": "1",
            "text/markdown": "1",
            "text/html": [
              "1"
            ]
          },
          "metadata": {}
        }
      ]
    },
    {
      "cell_type": "markdown",
      "metadata": {
        "id": "MVhfeL1Yg7KS"
      },
      "source": [
        "이제 양측에서 확률값이 더 조금 추가되는 정수들을 더해주면서, 유의수준인 alpha 값이 0.05 보다 커지는 시점까지 양측 값들을 업데이트 해준다."
      ]
    },
    {
      "cell_type": "code",
      "metadata": {
        "id": "e4n2Sk7HdGci"
      },
      "source": [
        "a = -29 ; b = 29 \n",
        "\n",
        "area_a = sum(dskellam(-30:a, gamma_1, gamma_2)) \n",
        "area_b = sum(dskellam(b:30, gamma_1, gamma_2))\n",
        "\n",
        "while(area_a + area_b < 0.05 ) {\n",
        "  if(dskellam(a, gamma_1, gamma_2) < dskellam(b, gamma_1, gamma_2) ) a = a + 1 else b = b - 1 \n",
        "\n",
        "  area_a = sum(dskellam(-30:a, gamma_1, gamma_2)) \n",
        "  area_b = sum(dskellam(b:30, gamma_1, gamma_2))\n",
        "}"
      ],
      "execution_count": 19,
      "outputs": []
    },
    {
      "cell_type": "code",
      "metadata": {
        "id": "JXlYT2KLxX5K",
        "outputId": "0316e015-8a20-4321-a906-a618e148efcf",
        "colab": {
          "base_uri": "https://localhost:8080/",
          "height": 34
        }
      },
      "source": [
        "a"
      ],
      "execution_count": 23,
      "outputs": [
        {
          "output_type": "display_data",
          "data": {
            "text/plain": [
              "[1] -4"
            ],
            "text/latex": "-4",
            "text/markdown": "-4",
            "text/html": [
              "-4"
            ]
          },
          "metadata": {}
        }
      ]
    },
    {
      "cell_type": "code",
      "metadata": {
        "id": "lTRXOHTken8r",
        "outputId": "596adb35-dd7e-460c-9294-f952fc6ae227",
        "colab": {
          "base_uri": "https://localhost:8080/",
          "height": 34
        }
      },
      "source": [
        "b"
      ],
      "execution_count": 24,
      "outputs": [
        {
          "output_type": "display_data",
          "data": {
            "text/plain": [
              "[1] 5"
            ],
            "text/latex": "5",
            "text/markdown": "5",
            "text/html": [
              "5"
            ]
          },
          "metadata": {}
        }
      ]
    },
    {
      "cell_type": "markdown",
      "metadata": {
        "id": "_g0eWCAshdGi"
      },
      "source": [
        "계산된 정수값이 (a+1):(b-1) 인 구간이 95% 신뢰구간이 된다. 확인하면 아래와 같다."
      ]
    },
    {
      "cell_type": "code",
      "metadata": {
        "id": "jzj8DSi6fDoa",
        "outputId": "4b997344-1b25-469f-d432-76eb7ad22f53",
        "colab": {
          "base_uri": "https://localhost:8080/",
          "height": 34
        }
      },
      "source": [
        "vec = dskellam((a+1):(b-1), gamma_1, gamma_2)\n",
        "vec = dskellam(-3:4, gamma_1, gamma_2)\n",
        "sum(vec)"
      ],
      "execution_count": 31,
      "outputs": [
        {
          "output_type": "display_data",
          "data": {
            "text/plain": [
              "[1] 0.9396649"
            ],
            "text/latex": "0.939664942273714",
            "text/markdown": "0.939664942273714",
            "text/html": [
              "0.939664942273714"
            ]
          },
          "metadata": {}
        }
      ]
    },
    {
      "cell_type": "markdown",
      "metadata": {
        "id": "FnKHJWERgS4C"
      },
      "source": [
        "으로부터 신뢰구간은 -3<= X <= 4 가 계산된다"
      ]
    },
    {
      "cell_type": "code",
      "metadata": {
        "id": "j3cZCLyWzUsk"
      },
      "source": [
        ""
      ],
      "execution_count": null,
      "outputs": []
    }
  ]
}