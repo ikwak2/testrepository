{
  "nbformat": 4,
  "nbformat_minor": 0,
  "metadata": {
    "colab": {
      "provenance": [],
      "authorship_tag": "ABX9TyOvKDPgay6ZtwdvKGLRVCrQ",
      "include_colab_link": true
    },
    "kernelspec": {
      "name": "python3",
      "display_name": "Python 3"
    },
    "language_info": {
      "name": "python"
    }
  },
  "cells": [
    {
      "cell_type": "markdown",
      "metadata": {
        "id": "view-in-github",
        "colab_type": "text"
      },
      "source": [
        "<a href=\"https://colab.research.google.com/github/ikwak2/testrepository/blob/main/testcode.ipynb\" target=\"_parent\"><img src=\"https://colab.research.google.com/assets/colab-badge.svg\" alt=\"Open In Colab\"/></a>"
      ]
    },
    {
      "cell_type": "code",
      "execution_count": null,
      "metadata": {
        "id": "N3VaLm_j6w1d"
      },
      "outputs": [],
      "source": []
    },
    {
      "cell_type": "code",
      "source": [
        "1+1"
      ],
      "metadata": {
        "colab": {
          "base_uri": "https://localhost:8080/"
        },
        "id": "CB1YIkTd6yfP",
        "outputId": "50ce8f2a-d074-448c-ce28-4c3eeea42b1c"
      },
      "execution_count": 1,
      "outputs": [
        {
          "output_type": "execute_result",
          "data": {
            "text/plain": [
              "2"
            ]
          },
          "metadata": {},
          "execution_count": 1
        }
      ]
    },
    {
      "cell_type": "markdown",
      "source": [
        "# 설명\n",
        "\n",
        "자잘한 설명들 \n",
        "\n",
        "- 하나\n",
        "- 둘 \n",
        "- 셋\n",
        "\n",
        "$$ \\sum_{i=0}^{10} i^2 $$\n",
        "\n",
        "$$ \\phi $$"
      ],
      "metadata": {
        "id": "wfCF6-rO6yuP"
      }
    },
    {
      "cell_type": "markdown",
      "source": [
        "$$ \\cos (2\\theta) = \\cos^2 \\theta - \\sin^2 \\theta $$"
      ],
      "metadata": {
        "id": "WNjz1W5_6zEv"
      }
    },
    {
      "cell_type": "code",
      "source": [],
      "metadata": {
        "id": "-wkLWoGI7jLI"
      },
      "execution_count": null,
      "outputs": []
    }
  ]
}