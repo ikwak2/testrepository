{
  "nbformat": 4,
  "nbformat_minor": 0,
  "metadata": {
    "colab": {
      "name": "math_symbol_prac.ipynb",
      "provenance": [],
      "authorship_tag": "ABX9TyM8oCEZd2RpiAhqChyZoc1w",
      "include_colab_link": true
    },
    "kernelspec": {
      "name": "python3",
      "display_name": "Python 3"
    },
    "language_info": {
      "name": "python"
    }
  },
  "cells": [
    {
      "cell_type": "markdown",
      "metadata": {
        "id": "view-in-github",
        "colab_type": "text"
      },
      "source": [
        "<a href=\"https://colab.research.google.com/github/ikwak2/testrepository/blob/main/math_symbol_prac.ipynb\" target=\"_parent\"><img src=\"https://colab.research.google.com/assets/colab-badge.svg\" alt=\"Open In Colab\"/></a>"
      ]
    },
    {
      "cell_type": "markdown",
      "metadata": {
        "id": "ldij655n3imu"
      },
      "source": [
        "## 수학 기호 연습\n",
        "\n",
        "수식 기호들을 집어 넣는 연습을 해봅시다. $\\theta = 1$ $1 \\le 5 $   \n",
        "$\\sum_{i=1}^{n} i^2$"
      ]
    },
    {
      "cell_type": "markdown",
      "metadata": {
        "id": "TQ4gkmZK345w"
      },
      "source": [
        "$$\n",
        "\\sum_{i=1}^{n} \\frac{1}{i}\n",
        "$$\n",
        "\n",
        "\n"
      ]
    },
    {
      "cell_type": "code",
      "metadata": {
        "id": "KlmPqhcu34G1"
      },
      "source": [
        ""
      ],
      "execution_count": null,
      "outputs": []
    },
    {
      "cell_type": "code",
      "metadata": {
        "colab": {
          "base_uri": "https://localhost:8080/"
        },
        "id": "07N_hcov3a3u",
        "outputId": "bcad68a1-eadc-4654-a4d7-8282e8898bf0"
      },
      "source": [
        "1+1"
      ],
      "execution_count": 2,
      "outputs": [
        {
          "output_type": "execute_result",
          "data": {
            "text/plain": [
              "2"
            ]
          },
          "metadata": {},
          "execution_count": 2
        }
      ]
    },
    {
      "cell_type": "code",
      "metadata": {
        "id": "TT8gyrSQ3aYg"
      },
      "source": [
        "ㅁ"
      ],
      "execution_count": null,
      "outputs": []
    },
    {
      "cell_type": "code",
      "metadata": {
        "id": "OLnE75qF3W5o"
      },
      "source": [
        ""
      ],
      "execution_count": null,
      "outputs": []
    }
  ]
}